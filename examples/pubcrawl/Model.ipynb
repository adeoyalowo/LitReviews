{
 "cells": [
  {
   "cell_type": "code",
   "execution_count": 30,
   "metadata": {},
   "outputs": [],
   "source": [
    "import sys\n",
    "import numpy as np\n",
    "import sqlite3 as sql\n",
    "from datetime import datetime\n",
    "import time\n",
    "\n",
    "from sklearn import linear_model\n",
    "\n",
    "\n",
    "strSQLFile = './output/citations.sqlite'\n",
    "conn = sql.connect(strSQLFile)\n",
    "c = conn.cursor()\n",
    "\n",
    "strSQL_KeepNaNs = \"SELECT HasAbstract, NumOfAuthors, PubDate_Month, PubDate_Year,  \\\n",
    "            SUM(Internal) AS `InternalCitations`, COUNT(Internal) AS `TotalCitations` \\\n",
    "            FROM tblPapers \\\n",
    "            INNER JOIN tblCitations ON tblPapers.Id = tblCitations.Cited \\\n",
    "            GROUP BY Id\"\n",
    "strSQL_RemoveNaNs = \"SELECT HasAbstract, NumOfAuthors, PubDate_Month, PubDate_Year,  \\\n",
    "            SUM(Internal) AS `InternalCitations`, COUNT(Internal) AS `TotalCitations` \\\n",
    "            FROM tblPapers \\\n",
    "            INNER JOIN tblCitations ON tblPapers.Id = tblCitations.Cited \\\n",
    "            WHERE NOT tblPapers.PubDate_Year = 0 \\\n",
    "            GROUP BY Id\"\n",
    "tblPapers = c.execute(strSQL_KeepNaNs).fetchall()\n",
    "# tblPapers = c.execute(strSQL_RemoveNaNs).fetchall()\n",
    "# vPapers = np.array(vPapers).ravel()\n",
    "\n",
    "# for tup in tblPapers:\n",
    "#     strPubDate = tup[1]\n",
    "#     dtPubDate = datetime.strptime('Jun 1 2005  1:33PM', '%b %d %Y %I:%M%p')\n",
    "#     dtPubDate = datetime.strptime(strPubDate, '%Y %b')\n",
    "#     print(dtPubDate)\n",
    "\n",
    "\n",
    "\n",
    "conn.close()"
   ]
  },
  {
   "cell_type": "code",
   "execution_count": 31,
   "metadata": {},
   "outputs": [
    {
     "name": "stdout",
     "output_type": "stream",
     "text": [
      "[[   1    2    0    0]\n",
      " [   1    1    0    0]\n",
      " [   0    7    0    0]\n",
      " ..., \n",
      " [   1   14    2 2016]\n",
      " [   1   10    2 2016]\n",
      " [   1   15    0    0]]\n",
      "[[26]\n",
      " [17]\n",
      " [12]\n",
      " ..., \n",
      " [ 5]\n",
      " [ 5]\n",
      " [ 8]]\n",
      "6314\n",
      "(5052,)\n",
      "(1262,)\n",
      "6314\n",
      "14.5782388343\n",
      "15.4303068556\n"
     ]
    }
   ],
   "source": [
    "# Set up variables, divide into training and testing data\n",
    "X = np.array([tup[:4] for tup in tblPapers])\n",
    "Y = np.array([tup[5:6] for tup in tblPapers])\n",
    "\n",
    "n = X.shape[0]\n",
    "nTrain = int(np.ceil(n*0.8))\n",
    "nTest = n - nTrain\n",
    "\n",
    "i = np.random.permutation(n)\n",
    "iTrain = i[:nTrain]\n",
    "iTest = i[nTrain:]\n",
    "\n",
    "XTrain = X[iTrain,:]\n",
    "YTrain = Y[iTrain,:]\n",
    "XTest =  X[iTest, :]\n",
    "YTest =  Y[iTest, :]\n",
    "\n",
    "print(X)\n",
    "print(Y)\n",
    "print(n)\n",
    "print(iTrain.shape)\n",
    "print(iTest.shape)\n",
    "print(iTrain.shape[0]+iTest.shape[0])\n",
    "\n",
    "print(np.mean(Y))\n",
    "print(np.std(Y))\n"
   ]
  },
  {
   "cell_type": "code",
   "execution_count": 35,
   "metadata": {},
   "outputs": [
    {
     "name": "stdout",
     "output_type": "stream",
     "text": [
      "0.29918479919433594\n",
      "0.312114953994751\n",
      "[15.615618284677124, 15.136738567834223]\n"
     ]
    }
   ],
   "source": [
    "# Fit models and calculate error\n",
    "def Error(y_, y):\n",
    "    return np.sqrt( np.mean(np.square(y_-y)) )\n",
    "#     return np.mean(np.abs(y_-y))\n",
    "\n",
    "t = time.time()\n",
    "\n",
    "m = linear_model.Lasso()\n",
    "m.fit(XTrain, YTrain)\n",
    "YTrain_ = m.predict(XTrain)\n",
    "fErrorTrain = Error(YTrain_, YTrain)\n",
    "\n",
    "print(time.time()-t)\n",
    "\n",
    "YTest_ = m.predict(XTest)\n",
    "fErrorTest = Error(YTest_, YTest)\n",
    "\n",
    "print(time.time()-t)\n",
    "\n",
    "print([fErrorTrain, fErrorTest])"
   ]
  },
  {
   "cell_type": "code",
   "execution_count": 43,
   "metadata": {},
   "outputs": [
    {
     "name": "stdout",
     "output_type": "stream",
     "text": [
      "(1262, 1)\n",
      "(1262, 1)\n",
      "[[ 14.46465316   5.        ]\n",
      " [ 15.1794762   18.        ]\n",
      " [ 15.89429924  11.        ]\n",
      " ..., \n",
      " [ 14.82206468  21.        ]\n",
      " [ 12.45358448   7.        ]\n",
      " [ 17.32394533   9.        ]]\n"
     ]
    }
   ],
   "source": [
    "\n",
    "YTest_ = YTest_.reshape((YTest_.shape[0],1))\n",
    "YTests = np.hstack((YTest_, YTest))\n",
    "print(YTest.shape)\n",
    "print(YTest_.shape)\n",
    "print(YTests)\n"
   ]
  },
  {
   "cell_type": "code",
   "execution_count": null,
   "metadata": {
    "collapsed": true
   },
   "outputs": [],
   "source": []
  }
 ],
 "metadata": {
  "kernelspec": {
   "display_name": "Python 3",
   "language": "python",
   "name": "python3"
  },
  "language_info": {
   "codemirror_mode": {
    "name": "ipython",
    "version": 3
   },
   "file_extension": ".py",
   "mimetype": "text/x-python",
   "name": "python",
   "nbconvert_exporter": "python",
   "pygments_lexer": "ipython3",
   "version": "3.6.1"
  }
 },
 "nbformat": 4,
 "nbformat_minor": 2
}
