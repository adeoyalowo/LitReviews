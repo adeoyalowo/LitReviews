{
 "cells": [
  {
   "cell_type": "code",
   "execution_count": null,
   "metadata": {
    "collapsed": true
   },
   "outputs": [],
   "source": [
    "import sys\n",
    "import numpy as np\n",
    "import sqlite3 as sql\n",
    "\n",
    "# from sklearn import linear_model\n",
    "\n",
    "\n",
    "strSQLFile = './output/citations.sqlite'\n",
    "conn = sql.connect(strSQLFile)\n",
    "c = conn.cursor()\n",
    "\n",
    "# matchingIds = c.execute(\"SELECT id FROM demo INTERSECT SELECT id FROM pred INTERSECT SELECT id FROM outcome\").fetchall()\n",
    "# matchingIds = np.array(matchingIds).ravel()\n",
    "\n",
    "\n",
    "conn.close()"
   ]
  }
 ],
 "metadata": {
  "kernelspec": {
   "display_name": "Python 3",
   "language": "python",
   "name": "python3"
  },
  "language_info": {
   "codemirror_mode": {
    "name": "ipython",
    "version": 3
   },
   "file_extension": ".py",
   "mimetype": "text/x-python",
   "name": "python",
   "nbconvert_exporter": "python",
   "pygments_lexer": "ipython3",
   "version": "3.6.1"
  }
 },
 "nbformat": 4,
 "nbformat_minor": 2
}
