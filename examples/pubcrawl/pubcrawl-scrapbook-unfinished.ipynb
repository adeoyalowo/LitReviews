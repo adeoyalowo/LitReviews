{
 "cells": [
  {
   "cell_type": "markdown",
   "metadata": {},
   "source": [
    "# ![](../../docs/img/PubCrawl@0.5x.png)"
   ]
  },
  {
   "cell_type": "markdown",
   "metadata": {},
   "source": [
    "# Overview\n",
    "\n",
    "* This notebook is for keeping track of things I want to try out in BioPython. \n",
    "\n",
    "TODO:\n",
    "1. Grab all abstracts for text mining or NLP.\n",
    "2. Generate list of references to overcome FLinks 100,000 link maximum.\n",
    "3. Look at differences vs PubMed and PMC.\n",
    "\n",
    "## Dependencies\n",
    "* Python 3.5+\n",
    "* [biopython](http://biopython.org/DIST/docs/tutorial/Tutorial.html)\n",
    "* [pandas](http://pandas.pydata.org/pandas-docs/stable/index.html)\n"
   ]
  },
  {
   "cell_type": "markdown",
   "metadata": {},
   "source": [
    "# Terms of Service and Use\n",
    "\n",
    "## Frequency, Timing and Registration of E-utility URL Requests\n",
    "\n",
    "> In order not to overload the E-utility servers, NCBI recommends that users post no more than three URL requests per second and limit large jobs to either weekends or between 9:00 PM and 5:00 AM Eastern time during weekdays. Failure to comply with this policy may result in an IP address being blocked from accessing NCBI. If NCBI blocks an IP address, service will not be restored unless the developers of the software accessing the E-utilities register values of the tool and email parameters with NCBI. \n",
    "\n",
    ">*See full text at [the NCBI website](https://www.ncbi.nlm.nih.gov/books/NBK25497/#chapter2.Usage_Guidelines_and_Requiremen).* "
   ]
  },
  {
   "cell_type": "markdown",
   "metadata": {},
   "source": [
    "# Getting Started\n",
    "\n",
    "## User Input. Enter YOUR email address.\n",
    "\n",
    "* TODO: Add support for customizing search terms using [search term filters](#1.-list-possible-search-filter-terms)."
   ]
  },
  {
   "cell_type": "code",
   "execution_count": null,
   "metadata": {
    "collapsed": true
   },
   "outputs": [],
   "source": [
    "email = \"adewole_oyalowo@brown.edu\"\n",
    "searchTerm = \"concussion\"\n",
    "# excludeReviews = False\n",
    "# excludeSystematicReviews = False\n",
    "# relDate = 0"
   ]
  },
  {
   "cell_type": "markdown",
   "metadata": {},
   "source": [
    "## Import modules"
   ]
  },
  {
   "cell_type": "code",
   "execution_count": null,
   "metadata": {
    "collapsed": false
   },
   "outputs": [],
   "source": [
    "from Bio import Entrez, SeqIO\n",
    "import pprint\n",
    "import pandas as pd\n",
    "\n",
    "pprint = pprint.PrettyPrinter(indent=4).pprint\n",
    "\n",
    "try:\n",
    "    from urllib.error import HTTPError  # for Python 3\n",
    "except ImportError:\n",
    "    from urllib2 import HTTPError  # for Python 2\n",
    "    \n",
    "Entrez.email = email\n",
    "Entrez.tool = 'pubcrawl via biopython'"
   ]
  },
  {
   "cell_type": "markdown",
   "metadata": {},
   "source": [
    "# Pre-Search Process\n",
    "\n",
    "## 1. List Possible Search Filter Terms\n",
    "\n",
    "First, let's generate a list of the possible search term filters."
   ]
  },
  {
   "cell_type": "code",
   "execution_count": null,
   "metadata": {
    "collapsed": false,
    "scrolled": true
   },
   "outputs": [],
   "source": [
    "infoHandle = Entrez.einfo(db=\"pubmed\")\n",
    "infoRecord = Entrez.read(infoHandle)\n",
    "\n",
    "for field in infoRecord[\"DbInfo\"][\"FieldList\"]:\n",
    "    print(\"%(Name)s, %(FullName)s, %(Description)s\" % field)"
   ]
  },
  {
   "cell_type": "markdown",
   "metadata": {},
   "source": [
    "## 2. Use Global Query Counts to return a list of the number of times the search term shows up for each database.\n",
    "\n",
    "Next, although primarily interested in PubMed, in some cases, PMC has more articles that PM. Let's use global query counts just to get a general sense of in which databases our search term appears."
   ]
  },
  {
   "cell_type": "code",
   "execution_count": null,
   "metadata": {
    "collapsed": false,
    "scrolled": true
   },
   "outputs": [],
   "source": [
    "egqHandle = Entrez.egquery(term=searchTerm)\n",
    "egqRecord = Entrez.read(egqHandle)\n",
    "for row in egqRecord[\"eGQueryResult\"]:\n",
    "    print('{}: {}'.format(row[\"DbName\"], row[\"Count\"]))"
   ]
  },
  {
   "cell_type": "markdown",
   "metadata": {},
   "source": [
    "# Search Process"
   ]
  },
  {
   "cell_type": "markdown",
   "metadata": {},
   "source": [
    "## 3. Use ESearch to grab the list of UIDs based on the search term. \n",
    "\n",
    "ESearch is the equivalent of entering our search term into pubmed's search bar. For this use case, we will set up the handle such that the UIDs are saved/cached in a web session."
   ]
  },
  {
   "cell_type": "code",
   "execution_count": null,
   "metadata": {
    "collapsed": false,
    "scrolled": false
   },
   "outputs": [],
   "source": [
    "searchHandle = Entrez.esearch(\n",
    "                                db='pubmed',\n",
    "                                term=searchTerm,\n",
    "                                retmax=0,\n",
    "                                retstart=0,\n",
    "                                sort='relevance',\n",
    "                                usehistory='y',\n",
    "    \n",
    "                             )\n",
    "\n",
    "searchResults = Entrez.read(searchHandle)\n",
    "searchHandle.close()\n",
    "pprint(searchResults)"
   ]
  },
  {
   "cell_type": "markdown",
   "metadata": {},
   "source": [
    "## 5. Use EFetch to grab abstracts or PMID list as text.\n",
    "\n",
    "EFetch can be used to grab full abstracts (where available) or a list of all the PMIDs for the search term. At this moment, I'm interested only in generating a lists of PMIDs. This list can later be uploaded to [NCBI FLink website](https://www.ncbi.nlm.nih.gov/Structure/flink/flink.cgi). Then, by using pubmed_pubmed_refs link, I can figure out what papers are commonly cited by our list.\n",
    "\n",
    "* For example, I can download a one-to-one mapping of 38694 pubmed records to their 10000 most commonly cited pubmed records.\n",
    "\n",
    "* TODO: Batch size."
   ]
  },
  {
   "cell_type": "markdown",
   "metadata": {},
   "source": [
    "## 5b. Export UIList to CSV\n",
    "* No need to chunk here (I think)"
   ]
  },
  {
   "cell_type": "code",
   "execution_count": null,
   "metadata": {
    "collapsed": false
   },
   "outputs": [],
   "source": [
    "fetchHandle = Entrez.efetch(\n",
    "                                db='pubmed',\n",
    "                                rettype='uilist',\n",
    "#                                 retmode='xml',\n",
    "                                query_key=searchResults['QueryKey'],\n",
    "                                WebEnv=searchResults['WebEnv'],\n",
    "                                retmax=searchResults['Count'],\n",
    "                                retstart=0,\n",
    "                                )\n",
    "\n",
    "# fetchResults = Entrez.read(fetchHandle)\n",
    "fetchResults = fetchHandle.read()\n",
    "fetchHandle.close()\n",
    "print(fetchResults)\n",
    "\n",
    "with open(\"output/uids_for_flink.csv\", \"w\") as outfile:\n",
    "    outfile.write(fetchResults)"
   ]
  },
  {
   "cell_type": "markdown",
   "metadata": {},
   "source": [
    "## 5c. Grab Abstracts (unfinished)\n",
    "\n",
    "* TODO: Chunk."
   ]
  },
  {
   "cell_type": "code",
   "execution_count": null,
   "metadata": {
    "collapsed": false
   },
   "outputs": [],
   "source": [
    "fetchHandle = Entrez.efetch(\n",
    "                                db='pubmed',\n",
    "#                                 rettype='medline',\n",
    "                                retmode='xml',\n",
    "                                query_key=searchResults['QueryKey'],\n",
    "                                WebEnv=searchResults['WebEnv'],\n",
    "                                retmax=searchResults['Count'],\n",
    "                                retstart=0,\n",
    "                                )\n",
    "\n",
    "# fetchResults = Entrez.read(fetchHandle)\n",
    "fetchResults = fetchHandle.read()\n",
    "fetchHandle.close()\n",
    "print(fetchResults)"
   ]
  },
  {
   "cell_type": "markdown",
   "metadata": {},
   "source": [
    "# Under Development"
   ]
  },
  {
   "cell_type": "markdown",
   "metadata": {},
   "source": [
    "## 6. Use ELink to generate a list of all the papers that cite the uploaded PMIDS.\n",
    "\n",
    "* Does not seem to work for very large search queries."
   ]
  },
  {
   "cell_type": "markdown",
   "metadata": {},
   "source": [
    "## Generate list of possible linknames"
   ]
  },
  {
   "cell_type": "code",
   "execution_count": null,
   "metadata": {
    "collapsed": false
   },
   "outputs": [],
   "source": [
    "linkHandle = Entrez.elink(\n",
    "                            dbfrom=\"pubmed\",\n",
    "                            db=\"pubmed\",\n",
    "                            query_key=searchResults['QueryKey'],\n",
    "                            WebEnv=searchResults['WebEnv'],\n",
    "                            )\n",
    "\n",
    "linkResults = Entrez.read(linkHandle)\n",
    "linkHandle.close()\n",
    "\n",
    "for linksetdb in linkResults[0][\"LinkSetDb\"]:\n",
    "    print(linksetdb[\"DbTo\"], linksetdb[\"LinkName\"], len(linksetdb[\"Link\"]))"
   ]
  },
  {
   "cell_type": "code",
   "execution_count": null,
   "metadata": {
    "collapsed": false
   },
   "outputs": [],
   "source": [
    "linkHandle = Entrez.elink(\n",
    "                            dbfrom=\"pubmed\",\n",
    "                            db=\"pubmed\",\n",
    "                            LinkName=\"pubmed_pubmed_citedin\",\n",
    "                            query_key=searchResults['QueryKey'],\n",
    "                            WebEnv=searchResults['WebEnv'],\n",
    "                            cmd='neighbor_score',\n",
    "                            rettype='xml',\n",
    "\n",
    "                            )\n",
    "\n",
    "linkResults = Entrez.read(linkHandle)\n",
    "linkHandle.close()"
   ]
  },
  {
   "cell_type": "code",
   "execution_count": null,
   "metadata": {
    "collapsed": false
   },
   "outputs": [],
   "source": [
    "pprint(linkResults[0])"
   ]
  },
  {
   "cell_type": "code",
   "execution_count": null,
   "metadata": {
    "collapsed": false
   },
   "outputs": [],
   "source": [
    "import csv\n",
    "import json\n",
    "\n",
    "\n",
    "pmids_pmids = [\"{},{}\".format(str(link[\"Id\"]),str(link['Score'])) for link in linkResults[0][\"LinkSetDb\"][0][\"Link\"]]\n",
    "\n",
    "print(pmcids_pmids)\n",
    "\n",
    "with open('pmidCitedInPmid.txt','w') as outfile:\n",
    "    header = csv.writer(f)\n",
    "    header.writerow(['pmid','citedInPmid'])\n",
    "    \n",
    "    writer = csv.writer(outfile, delimiter='\\n')\n",
    "    writer.writerows([pmids])\n",
    "    \n",
    "# print(linkResults[0])"
   ]
  },
  {
   "cell_type": "markdown",
   "metadata": {},
   "source": [
    "## Convert PMCIDs to PMIDs"
   ]
  },
  {
   "cell_type": "code",
   "execution_count": null,
   "metadata": {
    "collapsed": false
   },
   "outputs": [],
   "source": [
    "linkHandle = Entrez.elink(\n",
    "                            dbfrom=\"pubmed\",\n",
    "                            db=\"pmc\",\n",
    "                            LinkName=\"pubmed_pmc_refs\",\n",
    "                            query_key=searchResults['QueryKey'],\n",
    "                            WebEnv=searchResults['WebEnv'],\n",
    "                            cmd='neighbor_history',\n",
    "                            )\n",
    "\n",
    "linkResults = Entrez.read(linkHandle)\n",
    "linkHandle.close()"
   ]
  },
  {
   "cell_type": "code",
   "execution_count": null,
   "metadata": {
    "collapsed": false
   },
   "outputs": [],
   "source": [
    "linkResults"
   ]
  },
  {
   "cell_type": "code",
   "execution_count": null,
   "metadata": {
    "collapsed": true
   },
   "outputs": [],
   "source": [
    "linkHandle = Entrez.elink(\n",
    "                            dbfrom=\"pmc\",\n",
    "                            db=\"pubmed\",\n",
    "                            LinkName=\"pmc_pubmed\",\n",
    "                            query_key=linkResults[0]['LinkSetDbHistory'][0]['QueryKey'],\n",
    "                            WebEnv=linkResults[0]['WebEnv'],\n",
    "#                             cmd='neighbor_score',\n",
    "#                             usehistory='y',\n",
    "                            )\n",
    "\n",
    "linkResults = Entrez.read(linkHandle)\n",
    "linkHandle.close()"
   ]
  },
  {
   "cell_type": "code",
   "execution_count": null,
   "metadata": {
    "collapsed": false
   },
   "outputs": [],
   "source": [
    "linkResults"
   ]
  },
  {
   "cell_type": "code",
   "execution_count": null,
   "metadata": {
    "collapsed": false
   },
   "outputs": [],
   "source": [
    "[link[\"Id\"] for link in linkResults[0][\"LinkSetDb\"][0][\"Link\"]]"
   ]
  },
  {
   "cell_type": "markdown",
   "metadata": {},
   "source": [
    "# Works Referenced\n",
    "\n",
    "* [BioPython](https://github.com/biopython/biopython)\n",
    "    * Cock, P.J.A. et al. Biopython: freely available Python tools for computational molecular biology and bioinformatics. Bioinformatics 2009 Jun 1; 25(11) 1422-3 http://dx.doi.org/10.1093/bioinformatics/btp163 pmid:19304878\n",
    "    * Tutorial and Cookbook: http://biopython.org/DIST/docs/tutorial/Tutorial.html\n",
    "    \n",
    "* [NCBI](https://www.ncbi.nlm.nih.gov/Structure/flink/flink.cgi)\n",
    "    * FLink: Frequency weighted links [Internet]. Bethesda (MD): National Library of Medicine (US), National Center for Biotechnology Information. 2010. Available from: https://www.ncbi.nlm.nih.gov/Structure/flink/flink.cgi\n",
    "    \n",
    "* [Pandas](http://pandas.pydata.org/pandas-docs/stable/index.html)\n",
    "    * Wes McKinney. Data Structures for Statistical Computing in Python, Proceedings of the 9th Python in Science Conference, 51-56 (2010) [(publisher link)](http://conference.scipy.org/proceedings/scipy2010/mckinney.html)"
   ]
  },
  {
   "cell_type": "code",
   "execution_count": null,
   "metadata": {
    "collapsed": true
   },
   "outputs": [],
   "source": []
  }
 ],
 "metadata": {
  "kernelspec": {
   "display_name": "Python 3",
   "language": "python",
   "name": "python3"
  },
  "language_info": {
   "codemirror_mode": {
    "name": "ipython",
    "version": 3
   },
   "file_extension": ".py",
   "mimetype": "text/x-python",
   "name": "python",
   "nbconvert_exporter": "python",
   "pygments_lexer": "ipython3",
   "version": "3.6.0"
  }
 },
 "nbformat": 4,
 "nbformat_minor": 2
}
