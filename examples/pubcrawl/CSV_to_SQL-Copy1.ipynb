{
 "cells": [
  {
   "cell_type": "code",
   "execution_count": 1,
   "metadata": {
    "collapsed": true
   },
   "outputs": [],
   "source": [
    "import sys\n",
    "import numpy as np\n",
    "import pandas as pd\n",
    "import sqlite3 as sql\n",
    "import ast\n",
    "\n",
    "# from sklearn import linear_model\n",
    "\n",
    "strDir = './output/'\n",
    "strCSVFile = '20170322_pmid_summaries_concussion.csv'\n",
    "# strCSVFile = '20170322_traumatic_brain_injury_pmid_summaries.csv'\n",
    "# Set the name of the CSV file to arg if possible\n",
    "# if len(sys.argv) > 1:\n",
    "#     strCSVFile = sys.argv[1]\n",
    "\n",
    "df = pd.read_csv(strDir + strCSVFile, parse_dates=[4,18,23]) # 4, 18, 23 are dates\n",
    "\n",
    "# df = pd.DataFrame(df[0:10], copy=True)\n",
    "\n",
    "# df['PubDate'] = pd.to_datetime(df['EPubDate'], errors='coerce')\n",
    "# df['PubDate'] = pd.to_datetime(df['PubDate'], errors='coerce')\n",
    "# df['SO'] = pd.to_datetime(df['SO'], errors='coerce')\n",
    "# print(df.head)\n",
    "# print(df.PubDate.dt.day)"
   ]
  },
  {
   "cell_type": "code",
   "execution_count": null,
   "metadata": {
    "collapsed": true
   },
   "outputs": [],
   "source": []
  }
 ],
 "metadata": {
  "kernelspec": {
   "display_name": "Python 3",
   "language": "python",
   "name": "python3"
  },
  "language_info": {
   "codemirror_mode": {
    "name": "ipython",
    "version": 3
   },
   "file_extension": ".py",
   "mimetype": "text/x-python",
   "name": "python",
   "nbconvert_exporter": "python",
   "pygments_lexer": "ipython3",
   "version": "3.6.1"
  }
 },
 "nbformat": 4,
 "nbformat_minor": 2
}
