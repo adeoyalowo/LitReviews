{
 "cells": [
  {
   "cell_type": "markdown",
   "metadata": {},
   "source": [
    "# ![](../../docs/img/PubCrawl@0.5x.png)"
   ]
  },
  {
   "cell_type": "markdown",
   "metadata": {},
   "source": [
    "# Overview\n",
    "\n",
    "1. Download list of PMIDs and metadata based on search term as described in [search process](#Search-Process).\n",
    "2. Upload list of PMIDs to NCBI Flink (pubmed_pubmed_refs).\n",
    "3. Download one-to-one mapping from NCBI Flink (csv: citedBy,primaryArticle).\n",
    "4. Upload result of #3 to network analysis program of choice (e.g. networkx, cytoscape, R, etc.).\n",
    "\n",
    "## Dependencies\n",
    "* Python 3.5+\n",
    "* [biopython](http://biopython.org/DIST/docs/tutorial/Tutorial.html)\n",
    "* [pandas](http://pandas.pydata.org/pandas-docs/stable/index.html)\n"
   ]
  },
  {
   "cell_type": "markdown",
   "metadata": {},
   "source": [
    "# Terms of Service and Use\n",
    "\n",
    "## Frequency, Timing and Registration of E-utility URL Requests\n",
    "\n",
    "> In order not to overload the E-utility servers, NCBI recommends that users post no more than three URL requests per second and limit large jobs to either weekends or between 9:00 PM and 5:00 AM Eastern time during weekdays. Failure to comply with this policy may result in an IP address being blocked from accessing NCBI. If NCBI blocks an IP address, service will not be restored unless the developers of the software accessing the E-utilities register values of the tool and email parameters with NCBI. \n",
    "\n",
    ">*See full text at [the NCBI website](https://www.ncbi.nlm.nih.gov/books/NBK25497/#chapter2.Usage_Guidelines_and_Requiremen).* "
   ]
  },
  {
   "cell_type": "markdown",
   "metadata": {},
   "source": [
    "# Getting Started\n",
    "\n",
    "## User Input. Enter YOUR email address.\n",
    "\n",
    "* TODO: Add support for customizing search terms using [search term filters](#1.-list-possible-search-filter-terms).\n",
    "* TODO: Add handles for save file names."
   ]
  },
  {
   "cell_type": "code",
   "execution_count": 1,
   "metadata": {
    "collapsed": true
   },
   "outputs": [],
   "source": [
    "email = \"adewole_oyalowo@brown.edu\"\n",
    "searchTerm = \"traumatic brain injury\""
   ]
  },
  {
   "cell_type": "markdown",
   "metadata": {},
   "source": [
    "## Import modules\n",
    "\n",
    "Import modules as described by the BioPython manual. \n",
    "* Do not need SeqIO.\n",
    "* Import pandas for use later."
   ]
  },
  {
   "cell_type": "code",
   "execution_count": 2,
   "metadata": {
    "collapsed": false
   },
   "outputs": [],
   "source": [
    "from Bio import Entrez, SeqIO\n",
    "import pprint\n",
    "import pandas as pd\n",
    "\n",
    "pprint = pprint.PrettyPrinter(indent=4).pprint\n",
    "\n",
    "try:\n",
    "    from urllib.error import HTTPError  # for Python 3\n",
    "except ImportError:\n",
    "    from urllib2 import HTTPError  # for Python 2\n",
    "    \n",
    "Entrez.email = email\n",
    "Entrez.tool = 'pubcrawl via biopython'"
   ]
  },
  {
   "cell_type": "markdown",
   "metadata": {},
   "source": [
    "# Pre-Search Process\n",
    "\n",
    "## i. List Possible Search Filter Terms\n",
    "\n",
    "First, let's generate a list of the possible search term filters. The BioPython cookbook describes how to format that request."
   ]
  },
  {
   "cell_type": "code",
   "execution_count": 3,
   "metadata": {
    "collapsed": false,
    "scrolled": true
   },
   "outputs": [
    {
     "name": "stdout",
     "output_type": "stream",
     "text": [
      "ALL, All Fields, All terms from all searchable fields\n",
      "UID, UID, Unique number assigned to publication\n",
      "FILT, Filter, Limits the records\n",
      "TITL, Title, Words in title of publication\n",
      "WORD, Text Word, Free text associated with publication\n",
      "MESH, MeSH Terms, Medical Subject Headings assigned to publication\n",
      "MAJR, MeSH Major Topic, MeSH terms of major importance to publication\n",
      "AUTH, Author, Author(s) of publication\n",
      "JOUR, Journal, Journal abbreviation of publication\n",
      "AFFL, Affiliation, Author's institutional affiliation and address\n",
      "ECNO, EC/RN Number, EC number for enzyme or CAS registry number\n",
      "SUBS, Supplementary Concept, CAS chemical name or MEDLINE Substance Name\n",
      "PDAT, Date - Publication, Date of publication\n",
      "EDAT, Date - Entrez, Date publication first accessible through Entrez\n",
      "VOL, Volume, Volume number of publication\n",
      "PAGE, Pagination, Page number(s) of publication\n",
      "PTYP, Publication Type, Type of publication (e.g., review)\n",
      "LANG, Language, Language of publication\n",
      "ISS, Issue, Issue number of publication\n",
      "SUBH, MeSH Subheading, Additional specificity for MeSH term\n",
      "SI, Secondary Source ID, Cross-reference from publication to other databases\n",
      "MHDA, Date - MeSH, Date publication was indexed with MeSH terms\n",
      "TIAB, Title/Abstract, Free text associated with Abstract/Title\n",
      "OTRM, Other Term, Other terms associated with publication\n",
      "INVR, Investigator, Investigator\n",
      "COLN, Author - Corporate, Corporate Author of publication\n",
      "CNTY, Place of Publication, Country of publication\n",
      "PAPX, Pharmacological Action, MeSH pharmacological action pre-explosions\n",
      "GRNT, Grant Number, NIH Grant Numbers\n",
      "MDAT, Date - Modification, Date of last modification\n",
      "CDAT, Date - Completion, Date of completion\n",
      "PID, Publisher ID, Publisher ID\n",
      "FAUT, Author - First, First Author of publication\n",
      "FULL, Author - Full, Full Author Name(s) of publication\n",
      "FINV, Investigator - Full, Full name of investigator\n",
      "TT, Transliterated Title, Words in transliterated title of publication\n",
      "LAUT, Author - Last, Last Author of publication\n",
      "PPDT, Print Publication Date, Date of print publication\n",
      "EPDT, Electronic Publication Date, Date of Electronic publication\n",
      "LID, Location ID, ELocation ID\n",
      "CRDT, Date - Create, Date publication first accessible through Entrez\n",
      "BOOK, Book, ID of the book that contains the document\n",
      "ED, Editor, Section's Editor\n",
      "ISBN, ISBN, ISBN\n",
      "PUBN, Publisher, Publisher's name\n",
      "AUCL, Author Cluster ID, Author Cluster ID\n",
      "EID, Extended PMID, Extended PMID\n",
      "DSO, DSO, Additional text from the summary\n",
      "AUID, Author - Identifier, Author Identifier\n",
      "PS, Subject - Personal Name, Personal Name as Subject\n",
      "COIS, Conflict of Interest Statements, Conflict of Interest Statements\n"
     ]
    }
   ],
   "source": [
    "infoHandle = Entrez.einfo(db=\"pubmed\")\n",
    "infoRecord = Entrez.read(infoHandle)\n",
    "\n",
    "for field in infoRecord[\"DbInfo\"][\"FieldList\"]:\n",
    "    print(\"%(Name)s, %(FullName)s, %(Description)s\" % field)"
   ]
  },
  {
   "cell_type": "markdown",
   "metadata": {},
   "source": [
    "## ii. Use Global Query Counts to return a list of the number of times the search term shows up for each database.\n",
    "\n",
    "Next, although primarily interested in PubMed, in some cases, PMC has more articles that PM. Let's use global query counts just to get a general sense of in which databases our search term appears. Once again, this info is in the BioPython cookbook."
   ]
  },
  {
   "cell_type": "code",
   "execution_count": 4,
   "metadata": {
    "collapsed": false,
    "scrolled": true
   },
   "outputs": [
    {
     "name": "stdout",
     "output_type": "stream",
     "text": [
      "pubmed: 38694\n",
      "pmc: 52307\n",
      "mesh: 2\n",
      "books: 2841\n",
      "pubmedhealth: 757\n",
      "omim: 11\n",
      "ncbisearch: 41\n",
      "nuccore: 266\n",
      "nucgss: 0\n",
      "nucest: 0\n",
      "protein: 323\n",
      "genome: 0\n",
      "structure: 2\n",
      "taxonomy: 0\n",
      "snp: 0\n",
      "dbvar: 1\n",
      "gene: 315\n",
      "sra: 113\n",
      "biosystems: 0\n",
      "unigene: 6\n",
      "cdd: 0\n",
      "clone: 44763\n",
      "popset: 0\n",
      "geoprofiles: 39898\n",
      "gds: 208\n",
      "homologene: 0\n",
      "pccompound: 0\n",
      "pcsubstance: 0\n",
      "pcassay: 141\n",
      "nlmcatalog: 663\n",
      "probe: 0\n",
      "gap: 105\n",
      "proteinclusters: 7\n",
      "bioproject: 48\n",
      "biosample: 10\n"
     ]
    }
   ],
   "source": [
    "egqHandle = Entrez.egquery(term=searchTerm)\n",
    "egqRecord = Entrez.read(egqHandle)\n",
    "for row in egqRecord[\"eGQueryResult\"]:\n",
    "    print('{}: {}'.format(row[\"DbName\"], row[\"Count\"]))"
   ]
  },
  {
   "cell_type": "markdown",
   "metadata": {},
   "source": [
    "# Search Process"
   ]
  },
  {
   "cell_type": "markdown",
   "metadata": {},
   "source": [
    "## 1. Use ESearch to grab the list of UIDs based on the search term. \n",
    "\n",
    "ESearch is the equivalent of entering our search term into pubmed's search bar. For this use case, we will set up the handle such that the UIDs are saved/cached in a web session."
   ]
  },
  {
   "cell_type": "code",
   "execution_count": 13,
   "metadata": {
    "collapsed": false,
    "scrolled": false
   },
   "outputs": [
    {
     "name": "stdout",
     "output_type": "stream",
     "text": [
      "{   'Count': '38694',\n",
      "    'IdList': [],\n",
      "    'QueryKey': '1',\n",
      "    'QueryTranslation': '\"brain injuries, traumatic\"[MeSH Terms] OR (\"brain\"[All Fields] AND \"injuries\"[All Fields] AND \"traumatic\"[All Fields]) OR \"traumatic brain injuries\"[All Fields] OR (\"traumatic\"[All Fields] AND \"brain\"[All Fields] AND \"injury\"[All Fields]) OR \"traumatic brain injury\"[All Fields]',\n",
      "    'RetMax': '0',\n",
      "    'RetStart': '0',\n",
      "    'TranslationSet': [{'From': 'traumatic brain injury', 'To': '\"brain injuries, traumatic\"[MeSH Terms] OR (\"brain\"[All Fields] AND \"injuries\"[All Fields] AND \"traumatic\"[All Fields]) OR \"traumatic brain injuries\"[All Fields] OR (\"traumatic\"[All Fields] AND \"brain\"[All Fields] AND \"injury\"[All Fields]) OR \"traumatic brain injury\"[All Fields]'}],\n",
      "    'TranslationStack': [{'Term': '\"brain injuries, traumatic\"[MeSH Terms]', 'Field': 'MeSH Terms', 'Count': '6173', 'Explode': 'Y'}, {'Term': '\"brain\"[All Fields]', 'Field': 'All Fields', 'Count': '1330790', 'Explode': 'N'}, {'Term': '\"injuries\"[All Fields]', 'Field': 'All Fields', 'Count': '601064', 'Explode': 'N'}, 'AND', {'Term': '\"traumatic\"[All Fields]', 'Field': 'All Fields', 'Count': '155571', 'Explode': 'N'}, 'AND', 'GROUP', 'OR', {'Term': '\"traumatic brain injuries\"[All Fields]', 'Field': 'All Fields', 'Count': '2006', 'Explode': 'N'}, 'OR', {'Term': '\"traumatic\"[All Fields]', 'Field': 'All Fields', 'Count': '155571', 'Explode': 'N'}, {'Term': '\"brain\"[All Fields]', 'Field': 'All Fields', 'Count': '1330790', 'Explode': 'N'}, 'AND', {'Term': '\"injury\"[All Fields]', 'Field': 'All Fields', 'Count': '601341', 'Explode': 'N'}, 'AND', 'GROUP', 'OR', {'Term': '\"traumatic brain injury\"[All Fields]', 'Field': 'All Fields', 'Count': '26254', 'Explode': 'N'}, 'OR', 'GROUP'],\n",
      "    'WebEnv': 'NCID_1_82816930_130.14.22.215_9001_1490160477_1536867390_0MetA0_S_MegaStore_F_1'}\n"
     ]
    }
   ],
   "source": [
    "searchHandle = Entrez.esearch(\n",
    "                                db='pubmed',\n",
    "                                term=searchTerm,\n",
    "                                retmax=0,\n",
    "                                retstart=0,\n",
    "                                sort='relevance',\n",
    "                                usehistory='y',\n",
    "    \n",
    "                             )\n",
    "\n",
    "searchResults = Entrez.read(searchHandle)\n",
    "searchHandle.close()\n",
    "pprint(searchResults)"
   ]
  },
  {
   "cell_type": "markdown",
   "metadata": {},
   "source": [
    "## 2. Use ESummary to pull data from other metafields.\n",
    "\n",
    "ESummary can be used to quickly grab some metadata about the articles we pull. An example output is shown below."
   ]
  },
  {
   "cell_type": "code",
   "execution_count": 14,
   "metadata": {
    "collapsed": false,
    "scrolled": true
   },
   "outputs": [
    {
     "data": {
      "text/plain": [
       "1"
      ]
     },
     "execution_count": 14,
     "metadata": {},
     "output_type": "execute_result"
    }
   ],
   "source": [
    "summaryHandle = Entrez.esummary(\n",
    "                                db='pubmed',\n",
    "                                query_key=searchResults['QueryKey'],\n",
    "                                WebEnv=searchResults['WebEnv'],\n",
    "                                retmax=1,\n",
    "                                retstart=0,\n",
    "                                )\n",
    "\n",
    "summaryResults = Entrez.read(summaryHandle)\n",
    "summaryHandle.close()\n",
    "len(summaryResults)"
   ]
  },
  {
   "cell_type": "code",
   "execution_count": 10,
   "metadata": {
    "collapsed": false
   },
   "outputs": [
    {
     "name": "stdout",
     "output_type": "stream",
     "text": [
      "{   'ArticleIds': {   'doi': '10.1016/j.annemergmed.2014.02.003',\n",
      "                      'eid': '24635991',\n",
      "                      'medline': [],\n",
      "                      'pii': 'S0196-0644(14)00100-0',\n",
      "                      'pubmed': ['24635991'],\n",
      "                      'rid': '24635991'},\n",
      "    'AuthorList': ['Dayan PS', 'Holmes JF', 'Schutzman S', 'Schunk J', 'Lichenstein R', 'Foerster LA', 'Hoyle J Jr', 'Atabaki S', 'Miskin M', 'Wisner D', 'Zuspan S', 'Kuppermann N', 'Traumatic Brain Injury Study Group of the Pediatric Emergency Care Applied Research Network (PECARN).'],\n",
      "    'DOI': '10.1016/j.annemergmed.2014.02.003',\n",
      "    'ELocationID': 'doi: 10.1016/j.annemergmed.2014.02.003',\n",
      "    'EPubDate': '2014 Mar 11',\n",
      "    'ESSN': '1097-6760',\n",
      "    'FullJournalName': 'Annals of emergency medicine',\n",
      "    'HasAbstract': 1,\n",
      "    'History': {   'accepted': '2014/02/03 00:00',\n",
      "                   'entrez': '2014/03/19 06:00',\n",
      "                   'medline': ['2014/09/30 06:00'],\n",
      "                   'pubmed': ['2014/03/19 06:00'],\n",
      "                   'received': '2013/08/21 00:00',\n",
      "                   'revised': '2014/01/24 00:00'},\n",
      "    'ISSN': '0196-0644',\n",
      "    'Id': '24635991',\n",
      "    'Issue': '2',\n",
      "    'Item': [],\n",
      "    'LangList': ['English'],\n",
      "    'LastAuthor': 'Kuppermann N',\n",
      "    'NlmUniqueID': '8002646',\n",
      "    'Pages': '153-62',\n",
      "    'PmcRefCount': 6,\n",
      "    'PubDate': '2014 Aug',\n",
      "    'PubStatus': 'ppublish',\n",
      "    'PubTypeList': ['Journal Article'],\n",
      "    'RecordStatus': 'PubMed - indexed for MEDLINE',\n",
      "    'References': [],\n",
      "    'SO': '2014 Aug;64(2):153-62',\n",
      "    'Source': 'Ann Emerg Med',\n",
      "    'Title': 'Risk of traumatic brain injuries in children younger than 24 months with isolated scalp hematomas.',\n",
      "    'Volume': '64'}\n"
     ]
    }
   ],
   "source": [
    "pprint(summaryResults[0])"
   ]
  },
  {
   "cell_type": "markdown",
   "metadata": {},
   "source": [
    "## 3. Store metadata in pandas dataframe and export to csv\n",
    "\n",
    "We will store this metadata in a pandas dataframe, and then export this dataframe to a csv file to serve as a lookup file."
   ]
  },
  {
   "cell_type": "code",
   "execution_count": 16,
   "metadata": {
    "collapsed": false
   },
   "outputs": [
    {
     "data": {
      "text/html": [
       "<div>\n",
       "<table border=\"1\" class=\"dataframe\">\n",
       "  <thead>\n",
       "    <tr style=\"text-align: right;\">\n",
       "      <th></th>\n",
       "      <th>ArticleIds</th>\n",
       "      <th>AuthorList</th>\n",
       "      <th>DOI</th>\n",
       "      <th>ELocationID</th>\n",
       "      <th>EPubDate</th>\n",
       "      <th>ESSN</th>\n",
       "      <th>FullJournalName</th>\n",
       "      <th>HasAbstract</th>\n",
       "      <th>History</th>\n",
       "      <th>ISSN</th>\n",
       "      <th>...</th>\n",
       "      <th>PmcRefCount</th>\n",
       "      <th>PubDate</th>\n",
       "      <th>PubStatus</th>\n",
       "      <th>PubTypeList</th>\n",
       "      <th>RecordStatus</th>\n",
       "      <th>References</th>\n",
       "      <th>SO</th>\n",
       "      <th>Source</th>\n",
       "      <th>Title</th>\n",
       "      <th>Volume</th>\n",
       "    </tr>\n",
       "  </thead>\n",
       "  <tbody>\n",
       "    <tr>\n",
       "      <th>0</th>\n",
       "      <td>{'pubmed': ['24635991'], 'medline': [], 'pii':...</td>\n",
       "      <td>[Dayan PS, Holmes JF, Schutzman S, Schunk J, L...</td>\n",
       "      <td>10.1016/j.annemergmed.2014.02.003</td>\n",
       "      <td>doi: 10.1016/j.annemergmed.2014.02.003</td>\n",
       "      <td>2014 Mar 11</td>\n",
       "      <td>1097-6760</td>\n",
       "      <td>Annals of emergency medicine</td>\n",
       "      <td>1</td>\n",
       "      <td>{'pubmed': ['2014/03/19 06:00'], 'medline': ['...</td>\n",
       "      <td>0196-0644</td>\n",
       "      <td>...</td>\n",
       "      <td>6</td>\n",
       "      <td>2014 Aug</td>\n",
       "      <td>ppublish</td>\n",
       "      <td>[Journal Article]</td>\n",
       "      <td>PubMed - indexed for MEDLINE</td>\n",
       "      <td>[]</td>\n",
       "      <td>2014 Aug;64(2):153-62</td>\n",
       "      <td>Ann Emerg Med</td>\n",
       "      <td>Risk of traumatic brain injuries in children y...</td>\n",
       "      <td>64</td>\n",
       "    </tr>\n",
       "  </tbody>\n",
       "</table>\n",
       "<p>1 rows × 27 columns</p>\n",
       "</div>"
      ],
      "text/plain": [
       "                                          ArticleIds  \\\n",
       "0  {'pubmed': ['24635991'], 'medline': [], 'pii':...   \n",
       "\n",
       "                                          AuthorList  \\\n",
       "0  [Dayan PS, Holmes JF, Schutzman S, Schunk J, L...   \n",
       "\n",
       "                                 DOI                             ELocationID  \\\n",
       "0  10.1016/j.annemergmed.2014.02.003  doi: 10.1016/j.annemergmed.2014.02.003   \n",
       "\n",
       "      EPubDate       ESSN               FullJournalName  HasAbstract  \\\n",
       "0  2014 Mar 11  1097-6760  Annals of emergency medicine            1   \n",
       "\n",
       "                                             History       ISSN  ...    \\\n",
       "0  {'pubmed': ['2014/03/19 06:00'], 'medline': ['...  0196-0644  ...     \n",
       "\n",
       "  PmcRefCount   PubDate PubStatus        PubTypeList  \\\n",
       "0           6  2014 Aug  ppublish  [Journal Article]   \n",
       "\n",
       "                   RecordStatus References                     SO  \\\n",
       "0  PubMed - indexed for MEDLINE         []  2014 Aug;64(2):153-62   \n",
       "\n",
       "          Source                                              Title Volume  \n",
       "0  Ann Emerg Med  Risk of traumatic brain injuries in children y...     64  \n",
       "\n",
       "[1 rows x 27 columns]"
      ]
     },
     "execution_count": 16,
     "metadata": {},
     "output_type": "execute_result"
    }
   ],
   "source": [
    "metadata = [dict(metainfo) for metainfo in summaryResults]\n",
    "\n",
    "df = pd.DataFrame(metadata)\n",
    "df"
   ]
  },
  {
   "cell_type": "markdown",
   "metadata": {},
   "source": [
    "### Chunk, download, and save.\n",
    "\n",
    "* Be careful about running multiple times. File mode will overwrite files of same name. \n",
    "* TODO: add variable for specifying file name."
   ]
  },
  {
   "cell_type": "code",
   "execution_count": 17,
   "metadata": {
    "collapsed": false
   },
   "outputs": [
    {
     "name": "stdout",
     "output_type": "stream",
     "text": [
      "Going to download record 1 to 5000\n",
      "Going to download record 5001 to 10000\n",
      "Going to download record 10001 to 15000\n",
      "Going to download record 15001 to 20000\n",
      "Going to download record 20001 to 25000\n",
      "Going to download record 25001 to 30000\n",
      "Going to download record 30001 to 35000\n",
      "Going to download record 35001 to 38694\n"
     ]
    }
   ],
   "source": [
    "count = int(searchResults['Count'])\n",
    "batchSize = 5000\n",
    "\n",
    "\n",
    "with open(\"output/pmid_summaries.csv\", \"w\") as outfile:\n",
    "    \n",
    "    writeHeader = True\n",
    "    for start in range(0,count,batchSize):\n",
    "        end = min(count, start+batchSize)\n",
    "        print(\"Going to download record {} to {}\".format(start+1, end))\n",
    "        attempt = 0\n",
    "\n",
    "        try:\n",
    "\n",
    "            summaryHandle = Entrez.esummary(\n",
    "                                            db='pubmed',\n",
    "                                            query_key=searchResults['QueryKey'],\n",
    "                                            WebEnv=searchResults['WebEnv'],\n",
    "                                            retstart=start,\n",
    "                                            retmax=batchSize,\n",
    "                                            )\n",
    "\n",
    "            \n",
    "        # TODO: Handle HTTP errors.\n",
    "        except Exception as err:\n",
    "            print(err)\n",
    "\n",
    "        summaryResults = Entrez.read(summaryHandle)\n",
    "        summaryHandle.close()\n",
    "        \n",
    "        metadata = [dict(metainfo) for metainfo in summaryResults]\n",
    "        df = pd.DataFrame(metadata)\n",
    "\n",
    "        df.to_csv(outfile, index=False, header=writeHeader)\n",
    "        writeHeader = False "
   ]
  },
  {
   "cell_type": "markdown",
   "metadata": {},
   "source": [
    "## 4. Use EFetch to grab PMID list as text.\n",
    "\n",
    "EFetch can be used to grab full abstracts (where available) or a list of all the PMIDs for the search term. At this moment, I'm interested only in generating a lists of PMIDs. This list can later be uploaded to [NCBI FLink website](https://www.ncbi.nlm.nih.gov/Structure/flink/flink.cgi). Then, by using pubmed_pubmed_refs link, I can figure out what papers are commonly cited by our list.\n",
    "\n",
    "* For example, I can download a one-to-one mapping of 38694 pubmed records to their 10000 most commonly cited pubmed records.\n",
    "\n",
    "* TODO: Batch size."
   ]
  },
  {
   "cell_type": "markdown",
   "metadata": {},
   "source": [
    "## 5. Export UIList to CSV\n",
    "* No need to chunk here (I think)"
   ]
  },
  {
   "cell_type": "code",
   "execution_count": null,
   "metadata": {
    "collapsed": false,
    "scrolled": false
   },
   "outputs": [],
   "source": [
    "fetchHandle = Entrez.efetch(\n",
    "                                db='pubmed',\n",
    "                                rettype='uilist',\n",
    "#                                 retmode='xml',\n",
    "                                query_key=searchResults['QueryKey'],\n",
    "                                WebEnv=searchResults['WebEnv'],\n",
    "                                retmax=searchResults['Count'],\n",
    "                                retstart=0,\n",
    "                                )\n",
    "\n",
    "# fetchResults = Entrez.read(fetchHandle)\n",
    "fetchResults = fetchHandle.read()\n",
    "fetchHandle.close()\n",
    "print(fetchResults)\n",
    "\n",
    "with open(\"output/uids_for_flink.csv\", \"w\") as outfile:\n",
    "    outfile.write(fetchResults)"
   ]
  },
  {
   "cell_type": "markdown",
   "metadata": {},
   "source": [
    "## 6. Grab Abstracts (unfinished)\n",
    "\n",
    "* TODO: Chunk."
   ]
  },
  {
   "cell_type": "code",
   "execution_count": null,
   "metadata": {
    "collapsed": false
   },
   "outputs": [],
   "source": [
    "fetchHandle = Entrez.efetch(\n",
    "                                db='pubmed',\n",
    "#                                 rettype='medline',\n",
    "                                retmode='xml',\n",
    "                                query_key=searchResults['QueryKey'],\n",
    "                                WebEnv=searchResults['WebEnv'],\n",
    "                                retmax=searchResults['Count'],\n",
    "                                retstart=0,\n",
    "                                )\n",
    "\n",
    "# fetchResults = Entrez.read(fetchHandle)\n",
    "fetchResults = fetchHandle.read()\n",
    "fetchHandle.close()\n",
    "print(fetchResults)"
   ]
  },
  {
   "cell_type": "markdown",
   "metadata": {},
   "source": [
    "# Works Referenced\n",
    "\n",
    "* [BioPython](https://github.com/biopython/biopython)\n",
    "    * Cock, P.J.A. et al. Biopython: freely available Python tools for computational molecular biology and bioinformatics. Bioinformatics 2009 Jun 1; 25(11) 1422-3 http://dx.doi.org/10.1093/bioinformatics/btp163 pmid:19304878\n",
    "    * Tutorial and Cookbook: http://biopython.org/DIST/docs/tutorial/Tutorial.html\n",
    "    \n",
    "* [NCBI](https://www.ncbi.nlm.nih.gov/Structure/flink/flink.cgi)\n",
    "    * FLink: Frequency weighted links [Internet]. Bethesda (MD): National Library of Medicine (US), National Center for Biotechnology Information. 2010. Available from: https://www.ncbi.nlm.nih.gov/Structure/flink/flink.cgi\n",
    "    \n",
    "* [Pandas](http://pandas.pydata.org/pandas-docs/stable/index.html)\n",
    "    * Wes McKinney. Data Structures for Statistical Computing in Python, Proceedings of the 9th Python in Science Conference, 51-56 (2010) [(publisher link)](http://conference.scipy.org/proceedings/scipy2010/mckinney.html)"
   ]
  }
 ],
 "metadata": {
  "kernelspec": {
   "display_name": "Python 3",
   "language": "python",
   "name": "python3"
  },
  "language_info": {
   "codemirror_mode": {
    "name": "ipython",
    "version": 3
   },
   "file_extension": ".py",
   "mimetype": "text/x-python",
   "name": "python",
   "nbconvert_exporter": "python",
   "pygments_lexer": "ipython3",
   "version": "3.6.0"
  }
 },
 "nbformat": 4,
 "nbformat_minor": 2
}
